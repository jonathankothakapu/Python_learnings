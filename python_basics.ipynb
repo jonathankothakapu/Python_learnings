{
 "cells": [
  {
   "cell_type": "code",
   "execution_count": 1,
   "id": "a6f0a592",
   "metadata": {},
   "outputs": [],
   "source": [
    "#python basics\n",
    "#lists, tuples, sets, dictionaries (keys:values)\n",
    "#comparison operators, Boolean operators \n",
    "#conditional statements If, elif, else\n",
    "#loops -- for, while\n",
    "#create custom functions"
   ]
  },
  {
   "cell_type": "markdown",
   "id": "0c977a55",
   "metadata": {},
   "source": [
    "**lists**"
   ]
  },
  {
   "cell_type": "code",
   "execution_count": 2,
   "id": "daf9566c",
   "metadata": {},
   "outputs": [
    {
     "data": {
      "text/plain": [
       "[1, 2, 3]"
      ]
     },
     "execution_count": 2,
     "metadata": {},
     "output_type": "execute_result"
    }
   ],
   "source": [
    "#list [], mutable\n",
    "#can do nested list\n",
    "a1 = [1,2,3]\n",
    "a1"
   ]
  },
  {
   "cell_type": "code",
   "execution_count": 3,
   "id": "48b19ea4",
   "metadata": {},
   "outputs": [
    {
     "data": {
      "text/plain": [
       "1"
      ]
     },
     "execution_count": 3,
     "metadata": {},
     "output_type": "execute_result"
    }
   ],
   "source": [
    "a1[0]"
   ]
  },
  {
   "cell_type": "code",
   "execution_count": 5,
   "id": "23c76f67",
   "metadata": {},
   "outputs": [
    {
     "data": {
      "text/plain": [
       "[1, 22, 3]"
      ]
     },
     "execution_count": 5,
     "metadata": {},
     "output_type": "execute_result"
    }
   ],
   "source": [
    "a1[1]=22\n",
    "a1"
   ]
  },
  {
   "cell_type": "markdown",
   "id": "a248b1a6",
   "metadata": {},
   "source": [
    "**Dictionaries**"
   ]
  },
  {
   "cell_type": "code",
   "execution_count": 6,
   "id": "652059b8",
   "metadata": {},
   "outputs": [],
   "source": [
    "#dictionaries called as hash tables in other languages\n",
    "dic = {'key1':'value1', 'key2':'value2'}"
   ]
  },
  {
   "cell_type": "code",
   "execution_count": 8,
   "id": "6831dbd3",
   "metadata": {},
   "outputs": [
    {
     "data": {
      "text/plain": [
       "'value1'"
      ]
     },
     "execution_count": 8,
     "metadata": {},
     "output_type": "execute_result"
    }
   ],
   "source": [
    "dic['key1']"
   ]
  },
  {
   "cell_type": "code",
   "execution_count": 9,
   "id": "65f02191",
   "metadata": {},
   "outputs": [
    {
     "name": "stdout",
     "output_type": "stream",
     "text": [
      "{'key1': 'value1', 'key2': 'value2'}\n"
     ]
    }
   ],
   "source": [
    "print(dic)"
   ]
  },
  {
   "cell_type": "markdown",
   "id": "bb015844",
   "metadata": {},
   "source": [
    "**tuples**"
   ]
  },
  {
   "cell_type": "code",
   "execution_count": 10,
   "id": "8678f5d5",
   "metadata": {},
   "outputs": [],
   "source": [
    "#tuples\n",
    "t = (1,2,3)"
   ]
  },
  {
   "cell_type": "code",
   "execution_count": 11,
   "id": "84f49b83",
   "metadata": {},
   "outputs": [
    {
     "data": {
      "text/plain": [
       "1"
      ]
     },
     "execution_count": 11,
     "metadata": {},
     "output_type": "execute_result"
    }
   ],
   "source": [
    "t[0]\n",
    "#say, t[0]=21   shows error--immutable"
   ]
  },
  {
   "cell_type": "code",
   "execution_count": 13,
   "id": "183f19a1",
   "metadata": {},
   "outputs": [
    {
     "data": {
      "text/plain": [
       "{1, 2, 3, 5}"
      ]
     },
     "execution_count": 13,
     "metadata": {},
     "output_type": "execute_result"
    }
   ],
   "source": [
    "#sets\n",
    "#only shows unique values\n",
    "{1,1,1,2,2,2,2,2,3,3,5}"
   ]
  },
  {
   "cell_type": "markdown",
   "id": "cab0dab1",
   "metadata": {},
   "source": [
    "**Boolean operators**"
   ]
  },
  {
   "cell_type": "code",
   "execution_count": 15,
   "id": "7d9476ed",
   "metadata": {},
   "outputs": [
    {
     "data": {
      "text/plain": [
       "False"
      ]
     },
     "execution_count": 15,
     "metadata": {},
     "output_type": "execute_result"
    }
   ],
   "source": [
    "# and, or, \n",
    "1==1"
   ]
  },
  {
   "cell_type": "code",
   "execution_count": 16,
   "id": "e3ef1503",
   "metadata": {},
   "outputs": [
    {
     "data": {
      "text/plain": [
       "False"
      ]
     },
     "execution_count": 16,
     "metadata": {},
     "output_type": "execute_result"
    }
   ],
   "source": [
    "'a'=='A'"
   ]
  },
  {
   "cell_type": "markdown",
   "id": "e3733ccb",
   "metadata": {},
   "source": [
    "**Comparison operators**"
   ]
  },
  {
   "cell_type": "code",
   "execution_count": 17,
   "id": "e1273794",
   "metadata": {},
   "outputs": [
    {
     "data": {
      "text/plain": [
       "True"
      ]
     },
     "execution_count": 17,
     "metadata": {},
     "output_type": "execute_result"
    }
   ],
   "source": [
    "#>,<,==,!=,>=,<=\n",
    "1!=2"
   ]
  },
  {
   "cell_type": "code",
   "execution_count": 19,
   "id": "5e183dc6",
   "metadata": {},
   "outputs": [
    {
     "data": {
      "text/plain": [
       "False"
      ]
     },
     "execution_count": 19,
     "metadata": {},
     "output_type": "execute_result"
    }
   ],
   "source": [
    "1>=2"
   ]
  },
  {
   "cell_type": "markdown",
   "id": "1b1f3f05",
   "metadata": {},
   "source": [
    "**Loops**"
   ]
  },
  {
   "cell_type": "code",
   "execution_count": 26,
   "id": "21db917c",
   "metadata": {},
   "outputs": [
    {
     "name": "stdout",
     "output_type": "stream",
     "text": [
      "Enter the number: 2\n",
      "Enter the number: 2\n",
      "2 = 2\n"
     ]
    }
   ],
   "source": [
    "a = input(\"Enter the number: \")\n",
    "b = input(\"Enter the number: \")\n",
    "if a>b:\n",
    "    print(\"{} > {}\".format(a,b))\n",
    "elif a<b:\n",
    "    print(\"{} < {}\".format(a,b))\n",
    "else:\n",
    "    print(\"{} = {}\".format(a,b))"
   ]
  },
  {
   "cell_type": "code",
   "execution_count": 34,
   "id": "79649b46",
   "metadata": {},
   "outputs": [
    {
     "name": "stdout",
     "output_type": "stream",
     "text": [
      "0\n",
      "a\n",
      "1\n",
      "a\n",
      "2\n",
      "a\n",
      "3\n",
      "a\n",
      "4\n",
      "a\n"
     ]
    }
   ],
   "source": [
    "for item in range(5):\n",
    "    print(item)\n",
    "    print(\"a\")\n"
   ]
  },
  {
   "cell_type": "code",
   "execution_count": 35,
   "id": "1abde49b",
   "metadata": {},
   "outputs": [
    {
     "name": "stdout",
     "output_type": "stream",
     "text": [
      "i is 1\n",
      "i is 2\n",
      "i is 3\n",
      "i is 4\n"
     ]
    }
   ],
   "source": [
    "i=1\n",
    "while i<5:\n",
    "    print(\"i is {}\".format(i))\n",
    "    i=i+1"
   ]
  },
  {
   "cell_type": "markdown",
   "id": "60c5a5a2",
   "metadata": {},
   "source": [
    "Function"
   ]
  },
  {
   "cell_type": "code",
   "execution_count": 44,
   "id": "b222ff7f",
   "metadata": {},
   "outputs": [
    {
     "name": "stdout",
     "output_type": "stream",
     "text": [
      "hello no name\n"
     ]
    }
   ],
   "source": [
    "def f1(name = 'no name'):       #no name is default if no parameter is given\n",
    "    print('hello '+name)\n",
    "f1()"
   ]
  },
  {
   "cell_type": "code",
   "execution_count": 43,
   "id": "5d20f600",
   "metadata": {},
   "outputs": [
    {
     "name": "stdout",
     "output_type": "stream",
     "text": [
      "hello jo\n"
     ]
    }
   ],
   "source": [
    "f1('jo')"
   ]
  },
  {
   "cell_type": "code",
   "execution_count": 45,
   "id": "73ae814b",
   "metadata": {},
   "outputs": [],
   "source": [
    "def square(x):\n",
    "    return x**2"
   ]
  },
  {
   "cell_type": "code",
   "execution_count": 47,
   "id": "cb221d90",
   "metadata": {},
   "outputs": [
    {
     "data": {
      "text/plain": [
       "36"
      ]
     },
     "execution_count": 47,
     "metadata": {},
     "output_type": "execute_result"
    }
   ],
   "source": [
    "a=square(6)\n",
    "a"
   ]
  },
  {
   "cell_type": "code",
   "execution_count": 51,
   "id": "bcdef3ac",
   "metadata": {},
   "outputs": [],
   "source": [
    "lambda x: x**2\n",
    "x=2"
   ]
  },
  {
   "cell_type": "code",
   "execution_count": 52,
   "id": "eb37784f",
   "metadata": {},
   "outputs": [],
   "source": [
    "st = 'Hi, This is good #good'"
   ]
  },
  {
   "cell_type": "code",
   "execution_count": 56,
   "id": "a25b3ebe",
   "metadata": {},
   "outputs": [
    {
     "data": {
      "text/plain": [
       "'HI, THIS IS GOOD #GOOD'"
      ]
     },
     "execution_count": 56,
     "metadata": {},
     "output_type": "execute_result"
    }
   ],
   "source": [
    "st.upper()"
   ]
  },
  {
   "cell_type": "code",
   "execution_count": 54,
   "id": "153bcf90",
   "metadata": {},
   "outputs": [
    {
     "data": {
      "text/plain": [
       "['Hi,', 'This', 'is', 'good', '#good']"
      ]
     },
     "execution_count": 54,
     "metadata": {},
     "output_type": "execute_result"
    }
   ],
   "source": [
    "st.split()"
   ]
  },
  {
   "cell_type": "code",
   "execution_count": 55,
   "id": "2f773a11",
   "metadata": {},
   "outputs": [
    {
     "data": {
      "text/plain": [
       "['Hi, This is good ', 'good']"
      ]
     },
     "execution_count": 55,
     "metadata": {},
     "output_type": "execute_result"
    }
   ],
   "source": [
    "st.split('#')"
   ]
  },
  {
   "cell_type": "code",
   "execution_count": 57,
   "id": "e0bfd565",
   "metadata": {},
   "outputs": [],
   "source": [
    "d = {'k1':'v1','k2':'v2','k3':'v3'}"
   ]
  },
  {
   "cell_type": "code",
   "execution_count": 58,
   "id": "a8bced64",
   "metadata": {},
   "outputs": [
    {
     "data": {
      "text/plain": [
       "dict_keys(['k1', 'k2', 'k3'])"
      ]
     },
     "execution_count": 58,
     "metadata": {},
     "output_type": "execute_result"
    }
   ],
   "source": [
    "d.keys()"
   ]
  },
  {
   "cell_type": "code",
   "execution_count": 59,
   "id": "4a55f7a2",
   "metadata": {},
   "outputs": [
    {
     "data": {
      "text/plain": [
       "dict_items([('k1', 'v1'), ('k2', 'v2'), ('k3', 'v3')])"
      ]
     },
     "execution_count": 59,
     "metadata": {},
     "output_type": "execute_result"
    }
   ],
   "source": [
    "d.items()"
   ]
  },
  {
   "cell_type": "code",
   "execution_count": 60,
   "id": "a599970a",
   "metadata": {},
   "outputs": [],
   "source": [
    "d = {'k1':[1,2,3,{'tricky':['oh','man','inception',{'target':[1,2,3,'hello']}]}]}"
   ]
  },
  {
   "cell_type": "code",
   "execution_count": 66,
   "id": "9b6475af",
   "metadata": {},
   "outputs": [
    {
     "data": {
      "text/plain": [
       "'hello'"
      ]
     },
     "execution_count": 66,
     "metadata": {},
     "output_type": "execute_result"
    }
   ],
   "source": [
    "d['k1'][3]['tricky'][3]['target'][3]"
   ]
  },
  {
   "cell_type": "code",
   "execution_count": 78,
   "id": "d334d135",
   "metadata": {},
   "outputs": [],
   "source": [
    "def find_dog(st):\n",
    "    count=0\n",
    "    for item in st.lower().split():\n",
    "        if item == 'dog':\n",
    "            count +=1\n",
    "    return count\n",
    "        "
   ]
  },
  {
   "cell_type": "code",
   "execution_count": 79,
   "id": "a85aaaa0",
   "metadata": {},
   "outputs": [
    {
     "data": {
      "text/plain": [
       "2"
      ]
     },
     "execution_count": 79,
     "metadata": {},
     "output_type": "execute_result"
    }
   ],
   "source": [
    "find_dog('This dog runs faster than the other dog dude!')"
   ]
  },
  {
   "cell_type": "code",
   "execution_count": 80,
   "id": "edcb192c",
   "metadata": {},
   "outputs": [],
   "source": [
    "seq = ['soup','dog','salad','cat','great']"
   ]
  },
  {
   "cell_type": "code",
   "execution_count": 85,
   "id": "6aa2dfcd",
   "metadata": {},
   "outputs": [
    {
     "data": {
      "text/plain": [
       "['soup', 'salad']"
      ]
     },
     "execution_count": 85,
     "metadata": {},
     "output_type": "execute_result"
    }
   ],
   "source": [
    "list(filter(lambda word: word[0]=='s',seq))"
   ]
  },
  {
   "cell_type": "code",
   "execution_count": 100,
   "id": "db51a178",
   "metadata": {},
   "outputs": [],
   "source": [
    "def caught(speed, bday):\n",
    "    if bday:\n",
    "        sp=speed-5\n",
    "    else:\n",
    "        sp=speed\n",
    "    if sp <= 60:\n",
    "        return 'No ticket'\n",
    "    elif sp>60 and sp<=80:\n",
    "        return 'Small ticket'\n",
    "    else:\n",
    "        return 'Big ticket'\n",
    "    \n",
    "    \n",
    "\n"
   ]
  },
  {
   "cell_type": "code",
   "execution_count": 101,
   "id": "ff2d2ee3",
   "metadata": {},
   "outputs": [
    {
     "data": {
      "text/plain": [
       "'Small ticket'"
      ]
     },
     "execution_count": 101,
     "metadata": {},
     "output_type": "execute_result"
    }
   ],
   "source": [
    "caught(67,True)"
   ]
  },
  {
   "cell_type": "code",
   "execution_count": 102,
   "id": "3af695b1",
   "metadata": {},
   "outputs": [
    {
     "data": {
      "text/plain": [
       "'Small ticket'"
      ]
     },
     "execution_count": 102,
     "metadata": {},
     "output_type": "execute_result"
    }
   ],
   "source": [
    "caught(81,True)"
   ]
  },
  {
   "cell_type": "code",
   "execution_count": 103,
   "id": "a3967b40",
   "metadata": {},
   "outputs": [
    {
     "data": {
      "text/plain": [
       "'Big ticket'"
      ]
     },
     "execution_count": 103,
     "metadata": {},
     "output_type": "execute_result"
    }
   ],
   "source": [
    "caught(81,False)"
   ]
  },
  {
   "cell_type": "code",
   "execution_count": null,
   "id": "158db358",
   "metadata": {},
   "outputs": [],
   "source": []
  }
 ],
 "metadata": {
  "kernelspec": {
   "display_name": "Python 3 (ipykernel)",
   "language": "python",
   "name": "python3"
  },
  "language_info": {
   "codemirror_mode": {
    "name": "ipython",
    "version": 3
   },
   "file_extension": ".py",
   "mimetype": "text/x-python",
   "name": "python",
   "nbconvert_exporter": "python",
   "pygments_lexer": "ipython3",
   "version": "3.9.7"
  }
 },
 "nbformat": 4,
 "nbformat_minor": 5
}
